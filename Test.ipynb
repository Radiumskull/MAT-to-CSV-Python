{
 "cells": [
  {
   "cell_type": "code",
   "execution_count": null,
   "metadata": {},
   "outputs": [],
   "source": [
    "from scipy import io\n",
    "import pandas as pd\n",
    "mat = io.loadmat('1_20131027.mat')\n",
    "labelMat = io.loadmat('label.mat')"
   ]
  },
  {
   "cell_type": "code",
   "execution_count": null,
   "metadata": {},
   "outputs": [],
   "source": [
    "labelMat"
   ]
  },
  {
   "cell_type": "code",
   "execution_count": null,
   "metadata": {},
   "outputs": [],
   "source": [
    "mat['djc_eeg1'][0].shape[0]"
   ]
  },
  {
   "cell_type": "code",
   "execution_count": null,
   "metadata": {},
   "outputs": [],
   "source": [
    "import os\n",
    "import tqdm\n",
    "\n",
    "mat_files = []\n",
    "excludes = ['label.mat']\n",
    "for i in os.listdir():\n",
    "    if ( i.split('.')[1] == 'mat' ):\n",
    "        if i not in excludes:\n",
    "            mat_files.append(i)\n",
    "\n",
    "mat_files"
   ]
  },
  {
   "cell_type": "code",
   "execution_count": null,
   "metadata": {},
   "outputs": [],
   "source": [
    "import numpy as np\n",
    "import pandas as pd\n",
    "\n",
    "df = pd.DataFrame()\n",
    "base_name = 'djc_eeg'\n",
    "n = 15\n",
    "electrodes = 62\n",
    "\n",
    "#Prepare the Label Column\n",
    "base_label = np.array([ 1,  0, -1, -1,  0,  1, -1,  0,  1,  1,  0, -1,  0,  1, -1])\n",
    "labels = np.array([])\n",
    "for i in range(0, 15):\n",
    "    labels = np.append(labels, np.ones(mat[base_name + str(i+1)][0].shape[0]) * base_label[i])\n",
    "\n",
    "#Set Data Columns based on Electrode Number\n",
    "for i in range(0, electrodes):\n",
    "    electrode_data = np.array([])\n",
    "    test = 0\n",
    "    for j in range(0, n):\n",
    "        electrode_data = np.append(electrode_data, mat[base_name + str(j+1)][i])\n",
    "    df[\"E\" + str(i+1)] = electrode_data\n",
    "df[\"label\"] = labels\n",
    "tqdm(df.to_csv('test.csv', index = False))"
   ]
  },
  {
   "cell_type": "code",
   "execution_count": null,
   "metadata": {
    "scrolled": true
   },
   "outputs": [],
   "source": []
  },
  {
   "cell_type": "code",
   "execution_count": null,
   "metadata": {},
   "outputs": [],
   "source": [
    "for i in labels[:1000]:\n",
    "    print(i)"
   ]
  },
  {
   "cell_type": "code",
   "execution_count": null,
   "metadata": {},
   "outputs": [],
   "source": []
  }
 ],
 "metadata": {
  "kernelspec": {
   "display_name": "Python 3",
   "language": "python",
   "name": "python3"
  },
  "language_info": {
   "codemirror_mode": {
    "name": "ipython",
    "version": 3
   },
   "file_extension": ".py",
   "mimetype": "text/x-python",
   "name": "python",
   "nbconvert_exporter": "python",
   "pygments_lexer": "ipython3",
   "version": "3.8.3"
  }
 },
 "nbformat": 4,
 "nbformat_minor": 4
}
